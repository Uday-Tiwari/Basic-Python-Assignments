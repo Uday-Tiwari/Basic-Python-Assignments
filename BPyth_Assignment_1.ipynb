{
 "cells": [
  {
   "cell_type": "markdown",
   "id": "d9a16fc6",
   "metadata": {},
   "source": [
    "## 1. In the below elements which of them are values or an expression? eg:- values can be integer or string and expressions will be mathematical operators.\n",
    "    \n",
    "* \n",
    "\n",
    "'hello'\n",
    "\n",
    "-87.8\n",
    "\n",
    "- \n",
    "\n",
    "/\n",
    "\n",
    "+\n",
    "\n",
    "6 "
   ]
  },
  {
   "cell_type": "markdown",
   "id": "debce522",
   "metadata": {},
   "source": [
    "values (integer)= -87.8,6\n",
    "\n",
    "values (string)= 'hello'\n",
    "\n",
    "expressions= *,-,/,+"
   ]
  },
  {
   "cell_type": "code",
   "execution_count": 37,
   "id": "8fa16eb6",
   "metadata": {},
   "outputs": [],
   "source": [
    "l=['*','hello',-87.8,'-','/','+',6]"
   ]
  },
  {
   "cell_type": "code",
   "execution_count": 42,
   "id": "4d1c3e59",
   "metadata": {},
   "outputs": [],
   "source": [
    "integers=[]\n",
    "floats=[]\n",
    "strings=[]\n",
    "expressions=[]"
   ]
  },
  {
   "cell_type": "code",
   "execution_count": 43,
   "id": "8cb4091e",
   "metadata": {
    "scrolled": true
   },
   "outputs": [
    {
     "name": "stdout",
     "output_type": "stream",
     "text": [
      "Integers: [6]\n",
      "Floats: [-87.8]\n",
      "Strings: ['hello']\n",
      "Expressions: ['*', '-', '/', '+']\n"
     ]
    }
   ],
   "source": [
    "for item in l:\n",
    "    if isinstance(item, int):  # Check if it's an integer\n",
    "        integers.append(item)\n",
    "    elif isinstance(item, float):  # Check if it's a float\n",
    "        floats.append(item)\n",
    "    elif isinstance(item, str):  # Check if it's a string\n",
    "        if item in ['*','-','/','+']:  # Check if it's a mathematical expression\n",
    "            expressions.append(item)\n",
    "        else:\n",
    "            strings.append(item)\n",
    "\n",
    "# Print the results\n",
    "print(\"Integers:\", integers)\n",
    "print(\"Floats:\", floats)\n",
    "print(\"Strings:\", strings)\n",
    "print(\"Expressions:\", expressions)"
   ]
  },
  {
   "cell_type": "markdown",
   "id": "9283eaa8",
   "metadata": {},
   "source": [
    "## 2. What is the difference between string and variable?"
   ]
  },
  {
   "cell_type": "markdown",
   "id": "bcd9a712",
   "metadata": {},
   "source": [
    "|Variable|String|\n",
    "|--------|------|\n",
    "|It is a cintainer that can store a value for Ex- Numbers, Strings, Lists etc|It stores a sequence of charectores|\n",
    "|These are mutable|These are immutable|\n",
    "|Use to hold any kind of data|Use to hold textual data|"
   ]
  },
  {
   "cell_type": "markdown",
   "id": "914731fe",
   "metadata": {},
   "source": [
    "## 3. Describe three different data types."
   ]
  },
  {
   "cell_type": "markdown",
   "id": "44aa5aad",
   "metadata": {},
   "source": [
    "|Interger|Float|String|\n",
    "|----|----|----|\n",
    "|int|float|str|\n",
    "|1,2,3...|2.3,44.5,3.6...|'uday'|"
   ]
  },
  {
   "cell_type": "markdown",
   "id": "8ed9dbb2",
   "metadata": {},
   "source": [
    "## 4. What is an expression made up of? What do all expressions do?"
   ]
  },
  {
   "cell_type": "markdown",
   "id": "01fd4573",
   "metadata": {},
   "source": [
    "These are the combination of -- values, operators, variables etc.\n",
    "These are used to evaluate value,make calculations, make decision control flow, assign values to variables "
   ]
  },
  {
   "cell_type": "markdown",
   "id": "0bba9156",
   "metadata": {},
   "source": [
    "## 5. This assignment statements, like spam = 10. What is the difference between an expression and a statement?"
   ]
  },
  {
   "cell_type": "markdown",
   "id": "056869bd",
   "metadata": {},
   "source": [
    "|Expression|Statement|\n",
    "|--------|--------|\n",
    "|A combination of values, variables, and operators that evaluates to a value.|A complete unit of code that performs an action but does not necessarily produce a value|\n",
    "|Always produces a value|May or may not produce a value|\n",
    "|2 + 3, x * 5, len(\"hello\")|x = 5, print(\"Hello, World!\"), if x > 5:, for i in range(5):|\n",
    "        \n",
    "        Hence -- spam = 10 is a Statement"
   ]
  },
  {
   "cell_type": "markdown",
   "id": "06c5b02a",
   "metadata": {},
   "source": [
    "## 6. After running the following code, what does the variable bacon contain?\n",
    "\n",
    "## bacon = 22,bacon + 1"
   ]
  },
  {
   "cell_type": "code",
   "execution_count": 56,
   "id": "7b537b6d",
   "metadata": {},
   "outputs": [
    {
     "data": {
      "text/plain": [
       "23"
      ]
     },
     "execution_count": 56,
     "metadata": {},
     "output_type": "execute_result"
    }
   ],
   "source": [
    "bacon=22\n",
    "bacon+1"
   ]
  },
  {
   "cell_type": "markdown",
   "id": "438342ce",
   "metadata": {},
   "source": [
    "## 7. What should the values of the following two terms be?\n",
    "\n",
    "## 'spam' + 'spamspam'\n",
    "\n",
    "## 'spam' * 3"
   ]
  },
  {
   "cell_type": "code",
   "execution_count": 57,
   "id": "7dde9a4b",
   "metadata": {},
   "outputs": [
    {
     "data": {
      "text/plain": [
       "'spamspamspam'"
      ]
     },
     "execution_count": 57,
     "metadata": {},
     "output_type": "execute_result"
    }
   ],
   "source": [
    "'spam' + 'spamspam'"
   ]
  },
  {
   "cell_type": "code",
   "execution_count": 58,
   "id": "77dd643c",
   "metadata": {},
   "outputs": [
    {
     "data": {
      "text/plain": [
       "'spamspamspam'"
      ]
     },
     "execution_count": 58,
     "metadata": {},
     "output_type": "execute_result"
    }
   ],
   "source": [
    "'spam'*3"
   ]
  },
  {
   "cell_type": "markdown",
   "id": "18961295",
   "metadata": {},
   "source": [
    "## 8. Why is eggs a valid variable name while 100 is invalid?"
   ]
  },
  {
   "cell_type": "markdown",
   "id": "49b85ee0",
   "metadata": {},
   "source": [
    "'eggs' is a valid variable because the variables in Python must begin with -- a letter, an underscore\n",
    "\n",
    "100 is an invalid variable becaue it starts with number "
   ]
  },
  {
   "cell_type": "markdown",
   "id": "e605868b",
   "metadata": {},
   "source": [
    "## 9. What three functions can be used to get the integer, floating-point number, or string version of a value?"
   ]
  },
  {
   "cell_type": "markdown",
   "id": "6c1bb55a",
   "metadata": {},
   "source": [
    "integre - int\n",
    "\n",
    "floating-point number - float\n",
    "\n",
    "string - str"
   ]
  },
  {
   "cell_type": "markdown",
   "id": "0ff4f7a7",
   "metadata": {},
   "source": [
    "## 10. Why does this expression cause an error? How can you fix it?\n",
    "\n",
    "## 'I have eaten ' + 99 + ' burritos.'"
   ]
  },
  {
   "cell_type": "markdown",
   "id": "35adba91",
   "metadata": {},
   "source": [
    "'I have eaten ' + '99' + ' burritos.'"
   ]
  },
  {
   "cell_type": "markdown",
   "id": "aacc6c15",
   "metadata": {},
   "source": [
    "Error was occuring because 99 was the integer and it cant be concatenate it with the other strings, \n",
    "to avoid it I just use the '' to make 99 as string "
   ]
  }
 ],
 "metadata": {
  "kernelspec": {
   "display_name": "Python 3 (ipykernel)",
   "language": "python",
   "name": "python3"
  },
  "language_info": {
   "codemirror_mode": {
    "name": "ipython",
    "version": 3
   },
   "file_extension": ".py",
   "mimetype": "text/x-python",
   "name": "python",
   "nbconvert_exporter": "python",
   "pygments_lexer": "ipython3",
   "version": "3.10.9"
  }
 },
 "nbformat": 4,
 "nbformat_minor": 5
}
