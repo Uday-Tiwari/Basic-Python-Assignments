{
 "cells": [
  {
   "cell_type": "markdown",
   "id": "2309bef3",
   "metadata": {},
   "source": [
    "1. In the below elements which of them are values or an expression? eg:- values can be integer or string and expressions will be mathematical operators.\n",
    "* \n",
    "'hello'\n",
    "-87.8\n",
    "- \n",
    "/ \n",
    "+\n",
    "6 \n"
   ]
  },
  {
   "cell_type": "markdown",
   "id": "cc59afb6",
   "metadata": {},
   "source": [
    "values (integer)= -87.8,6\n",
    "values (string)= 'hello'\n",
    "expressions= *,-,/,+"
   ]
  },
  {
   "cell_type": "code",
   "execution_count": 37,
   "id": "272fa4ea",
   "metadata": {},
   "outputs": [],
   "source": [
    "l=['*','hello',-87.8,'-','/','+',6]"
   ]
  },
  {
   "cell_type": "code",
   "execution_count": 42,
   "id": "2968fc7c",
   "metadata": {},
   "outputs": [],
   "source": [
    "integers=[]\n",
    "floats=[]\n",
    "strings=[]\n",
    "expressions=[]"
   ]
  },
  {
   "cell_type": "code",
   "execution_count": 43,
   "id": "1755cf1b",
   "metadata": {},
   "outputs": [
    {
     "name": "stdout",
     "output_type": "stream",
     "text": [
      "Integers: [6]\n",
      "Floats: [-87.8]\n",
      "Strings: ['hello']\n",
      "Expressions: ['*', '-', '/', '+']\n"
     ]
    }
   ],
   "source": [
    "for item in l:\n",
    "    if isinstance(item, int):  # Check if it's an integer\n",
    "        integers.append(item)\n",
    "    elif isinstance(item, float):  # Check if it's a float\n",
    "        floats.append(item)\n",
    "    elif isinstance(item, str):  # Check if it's a string\n",
    "        if item in ['*','-','/','+']:  # Check if it's a mathematical expression\n",
    "            expressions.append(item)\n",
    "        else:\n",
    "            strings.append(item)\n",
    "\n",
    "# Print the results\n",
    "print(\"Integers:\", integers)\n",
    "print(\"Floats:\", floats)\n",
    "print(\"Strings:\", strings)\n",
    "print(\"Expressions:\", expressions)"
   ]
  },
  {
   "cell_type": "markdown",
   "id": "bf2174c1",
   "metadata": {},
   "source": [
    "2. What is the difference between string and variable?"
   ]
  },
  {
   "cell_type": "code",
   "execution_count": null,
   "id": "08e5766b",
   "metadata": {},
   "outputs": [],
   "source": [
    "# String -- "
   ]
  }
 ],
 "metadata": {
  "kernelspec": {
   "display_name": "Python 3 (ipykernel)",
   "language": "python",
   "name": "python3"
  },
  "language_info": {
   "codemirror_mode": {
    "name": "ipython",
    "version": 3
   },
   "file_extension": ".py",
   "mimetype": "text/x-python",
   "name": "python",
   "nbconvert_exporter": "python",
   "pygments_lexer": "ipython3",
   "version": "3.10.9"
  }
 },
 "nbformat": 4,
 "nbformat_minor": 5
}
