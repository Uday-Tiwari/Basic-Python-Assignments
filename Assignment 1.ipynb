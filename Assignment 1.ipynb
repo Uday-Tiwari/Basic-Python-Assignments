{
 "cells": [
  {
   "cell_type": "raw",
   "id": "f3ca894a",
   "metadata": {},
   "source": [
    "2. What is the difference between string and variable?\n",
    "weduckbhmbvc7oeyhkbvs f\n",
    "cknulsrevijk veus\n",
    "loifrhglu.vjk bugp;ervfkgbn fl/\n"
   ]
  },
  {
   "cell_type": "code",
   "execution_count": null,
   "id": "4695026f",
   "metadata": {},
   "outputs": [],
   "source": []
  }
 ],
 "metadata": {
  "kernelspec": {
   "display_name": "Python 3 (ipykernel)",
   "language": "python",
   "name": "python3"
  },
  "language_info": {
   "codemirror_mode": {
    "name": "ipython",
    "version": 3
   },
   "file_extension": ".py",
   "mimetype": "text/x-python",
   "name": "python",
   "nbconvert_exporter": "python",
   "pygments_lexer": "ipython3",
   "version": "3.9.13"
  }
 },
 "nbformat": 4,
 "nbformat_minor": 5
}
